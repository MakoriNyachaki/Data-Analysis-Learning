{
 "cells": [
  {
   "cell_type": "markdown",
   "id": "8832e097",
   "metadata": {},
   "source": [
    "##### A Program that asks the user for their current age and tell them how old the will be in a year."
   ]
  },
  {
   "cell_type": "code",
   "execution_count": 1,
   "id": "66f5af28",
   "metadata": {
    "scrolled": true
   },
   "outputs": [
    {
     "name": "stdout",
     "output_type": "stream",
     "text": [
      "Enter your current age: 32\n",
      "33\n"
     ]
    }
   ],
   "source": [
    "##\n",
    "# myAge: A function that takes the user input that is their \n",
    "# current age and adds one year to it to get their age in a year.\n",
    "# @age: Variable age, the user's age\n",
    "# @return: Returns the age of the user in a year's time.\n",
    "#\n",
    "def myAge(age) -> (int):\n",
    "    age += 1\n",
    "    return(age)\n",
    "\n",
    "# main: function to prompt the user to enter their age\n",
    "# and print it to the output\n",
    "def main():\n",
    "    # The user should be prompted to enter the his/her age\n",
    "    age = int(input(\"Enter your current age: \"))\n",
    "    # Determine the age next year\n",
    "    my_age = myAge(age)\n",
    "    print(my_age)\n",
    "    \n",
    "# Call the main function\n",
    "main()"
   ]
  },
  {
   "cell_type": "markdown",
   "id": "c61d7fdd",
   "metadata": {},
   "source": [
    "##### A function that asks the user for their total marks of a subject and tells them what their grade is."
   ]
  },
  {
   "cell_type": "code",
   "execution_count": 2,
   "id": "bc189df9",
   "metadata": {},
   "outputs": [
    {
     "name": "stdout",
     "output_type": "stream",
     "text": [
      "Enter your total marks: 79\n",
      "B\n"
     ]
    }
   ],
   "source": [
    "##\n",
    "# yourGrade: The grade function to determine the grade of the user given the marks as input\n",
    "# @marks: the score for the user\n",
    "# return: the grade\n",
    "#\n",
    "def yourGrade(marks) -> (int, float):\n",
    "    # marks = input(\"Enter your total marks: \")\n",
    "    if marks >= 80 and marks <= 100:\n",
    "        grd = \"A\"\n",
    "    elif marks >= 70 and marks < 80:\n",
    "        grd = \"B\"\n",
    "    elif marks >= 60 and marks < 70:\n",
    "        grd = \"C\"\n",
    "    elif marks >= 50 and marks < 60:\n",
    "        grd = \"D\"\n",
    "    elif marks >= 40 and marks < 50:\n",
    "        grd = \"E\"\n",
    "    elif marks >= 0 and marks < 40:\n",
    "        grd = \"F\"\n",
    "    else:\n",
    "        grd = \"Enter the correct grade. Grade must be between 0 and 100\"\n",
    "    return(str(grd))\n",
    "\n",
    "##\n",
    "# main: function that prompts the user to enter the marks for the use\n",
    "# Calls the yourGrade function to determine the Grade for the user and\n",
    "# Prints the grade according to the score of the user\n",
    "#\n",
    "def main():\n",
    "    score = int(input(\"Enter your total marks: \"))\n",
    "    grade = yourGrade(score)\n",
    "    print(grade)\n",
    "\n",
    "    # Call the main function    \n",
    "main()"
   ]
  },
  {
   "cell_type": "markdown",
   "id": "70ea8680",
   "metadata": {},
   "source": [
    "##### A Python function that asks the user for 3 numbers and outputs them in ascending numerical order"
   ]
  },
  {
   "cell_type": "code",
   "execution_count": 3,
   "id": "2cc89f59",
   "metadata": {},
   "outputs": [
    {
     "name": "stdout",
     "output_type": "stream",
     "text": [
      "Enter the first number: 54\n",
      "Enter the second number: 21\n",
      "Enter the third number: 98\n",
      "21 54 98\n"
     ]
    }
   ],
   "source": [
    "# num_1 = input(\"Enter the first number: \")\n",
    "# num_2 = input(\"Enter the second number: \")\n",
    "# num_3 = input(\"Enter the third number: \")\n",
    "\n",
    "def sortNum(num_1, num_2, num_3) -> (float, int):\n",
    "    \n",
    "    if num_1 > num_2 and num_2 > num_3:\n",
    "        print(num_3, num_2, num_1)\n",
    "    elif num_1 > num_3 and num_3 > num_2:\n",
    "        print(num_2, num_3, num_1)        \n",
    "    elif num_2 > num_1 and num_1 > num_3:\n",
    "        print(num_3, num_1, num_2)\n",
    "    elif(num_2>num_3 and num_3 > num_1):\n",
    "        print(num_1, num_3, num_2)        \n",
    "    elif (num_3>num_1 and num_1>num_2):\n",
    "        print(num_2, num_1, num_3)\n",
    "    elif(num_3>num_2 and num_2>num_1):\n",
    "        print(num_1, num_2, num_3)\n",
    "\n",
    "sortNum(input(\"Enter the first number: \"), input(\"Enter the second number: \"), input(\"Enter the third number: \"))\n"
   ]
  },
  {
   "cell_type": "markdown",
   "id": "b146f5f9",
   "metadata": {},
   "source": [
    "##### A program that tells the smallest and largest numbers in a list input by the user"
   ]
  },
  {
   "cell_type": "code",
   "execution_count": 4,
   "id": "48d1d7ae",
   "metadata": {},
   "outputs": [
    {
     "name": "stdout",
     "output_type": "stream",
     "text": [
      "Enter the length of your list: 5\n",
      "\n",
      "Enter the 5 numbers for your list:\n",
      "\n",
      "Enter Number 1: 562\n",
      "Enter Number 2: 9876\n",
      "Enter Number 3: 43\n",
      "Enter Number 4: 1222\n",
      "Enter Number 5: 98\n",
      "max: 9876 \n",
      " min: 43\n"
     ]
    }
   ],
   "source": [
    "##\n",
    "# yourList: Function to create a list\n",
    "# @listLen: number of items in your list\n",
    "# return the list.\n",
    "#\n",
    "def yourList(listLen = 0) -> int:\n",
    "    listItems = []\n",
    "    for i in range(listLen):\n",
    "        item = int(input(f\"Enter Number {i + 1}: \"))\n",
    "        listItems.append(item)\n",
    "        listLen += 1\n",
    "    return(listItems)\n",
    "\n",
    "##\n",
    "# sortList: Function to sort a list\n",
    "# @lst: list input from the user\n",
    "# @return: return a sorted list\n",
    "#\n",
    "def sortList(lst) -> list:\n",
    "    lst.sort()\n",
    "    return(lst) \n",
    "\n",
    "##\n",
    "# maxVal: a function to determine the maximum value in a list\n",
    "# @lst: list of values from the user\n",
    "# return: the maximum value in the list\n",
    "#\n",
    "def maxVal(lst) -> list:\n",
    "    return(max(lst))\n",
    "\n",
    "\n",
    "##\n",
    "# minVal: a function to determine the minimum value in a list\n",
    "# @lst: list of values from the user\n",
    "# return: the minimum value in the list\n",
    "#\n",
    "def minVal(lst) -> list:\n",
    "    return(min(lst))\n",
    "\n",
    "##\n",
    "# main: function call to sort the list\n",
    "# print: sorted list\n",
    "\n",
    "def main():\n",
    "    # Print an empty list; test\n",
    "    # print(yourList())\n",
    "    # Prompt the user for the number of elements in the list; List length\n",
    "    listLen = int(input(\"Enter the length of your list: \"))\n",
    "    # Create a list from the user input by calling the createList function\n",
    "    print(f'\\nEnter the {listLen} numbers for your list:\\n')\n",
    "    list1 = yourList(listLen)\n",
    "    # Output\n",
    "    #print(sortList(list1))\n",
    "    print(f'max: {maxVal(list1)} \\n min: {minVal(list1)}')\n",
    "    \n",
    "\n",
    "# Call the main function to run the program\n",
    "main()"
   ]
  },
  {
   "cell_type": "markdown",
   "id": "96b369b3",
   "metadata": {},
   "source": [
    "##### A program that asks the user for a string and tells the user whether or not a string is a palindrome"
   ]
  },
  {
   "cell_type": "code",
   "execution_count": 59,
   "id": "a0c49089",
   "metadata": {},
   "outputs": [],
   "source": [
    "# ##\n",
    "# # strLength: a function to determine the lenght of a string\n",
    "# # @string: input string whose length isto be checked\n",
    "# # return: the length of a string\n",
    "# def strLength(string) -> str:\n",
    "#     str_len = len(string)\n",
    "#     return(str_len)\n",
    "\n",
    "# ##\n",
    "# def isPalindrome(string) -> str:\n",
    "#     leftIndex = 0\n",
    "#     rightIndex = -1\n",
    "#     strLen = strLength(string)\n",
    "    \n",
    "#     if string[leftIndex] != string[rightIndex]:\n",
    "#         return(\"The string is not a palindrome.\")\n",
    "#     elif string[leftIndex] == string[rightIndex]:\n",
    "#         nleftIndex =  leftIndex + 1\n",
    "#         nrightIndex = rightIndex - 1\n",
    "#         while nleftIndex < abs(nrightIndex):\n",
    "#             if string[nleftIndex] == string[nrightIndex]:\n",
    "#                 return(\"Is palindrome\")\n",
    "#             else:\n",
    "#                 return(\"The string is not a palindrome.\")\n",
    "#             nleftIndex += 1\n",
    "#             nrightIndex -= 1\n",
    "# def isPalindrome1(string) -> str:\n",
    "#     lastIndex  = -1\n",
    "#     newString = []\n",
    "#     lenStr = strLength(string)\n",
    "#     for i in string:\n",
    "#         newString = string[::lastIndex]\n",
    "#         lastIndex = lastIndex - 1\n",
    "#     return(newString)\n",
    "    \n",
    "# #     if newString == string:\n",
    "# #         return(True)\n",
    "# #     else:\n",
    "# #         return(False)\n",
    "\n",
    "\n"
   ]
  },
  {
   "cell_type": "code",
   "execution_count": 60,
   "id": "64857868",
   "metadata": {},
   "outputs": [
    {
     "name": "stdout",
     "output_type": "stream",
     "text": [
      "Enter a word to test if it is a palindrome: racecar\n",
      "True\n"
     ]
    }
   ],
   "source": [
    "##\n",
    "# reverseString: A function to reverse a string using slices\n",
    "# @string: the input to be reversed\n",
    "# return: the reversed string\n",
    "#\n",
    "def reverseString(string) -> str:\n",
    "    return(string[::-1])\n",
    "\n",
    "\n",
    "##\n",
    "# isPalindrome: A function to test a string if it is palindrome\n",
    "# @string: the string input to be tested if it is a palindrome\n",
    "# return: \"True\" if a string is a palindrome or \"False\" if the string if not a palindrome\n",
    "#\n",
    "def isPalindrome(string) -> str:\n",
    "    reversedString = reverseString(string)\n",
    "    \n",
    "    if string == reversedString:\n",
    "        return(True)\n",
    "    else:\n",
    "        return(False)\n",
    "    \n",
    "def main():\n",
    "    # Test the strLength function\n",
    "    # print(strLength(\"hello\"))\n",
    "    \n",
    "    # Test the reversedString function    \n",
    "    # print(reverseString(\"hello\"))\n",
    "    \n",
    "    # Test for palindrome\n",
    "    text = input(\"Enter a word to test if it is a palindrome: \")\n",
    "    print(isPalindrome2(text))\n",
    "    \n",
    "main()"
   ]
  },
  {
   "cell_type": "code",
   "execution_count": null,
   "id": "a31e8a13",
   "metadata": {},
   "outputs": [],
   "source": []
  }
 ],
 "metadata": {
  "kernelspec": {
   "display_name": "Python 3 (ipykernel)",
   "language": "python",
   "name": "python3"
  },
  "language_info": {
   "codemirror_mode": {
    "name": "ipython",
    "version": 3
   },
   "file_extension": ".py",
   "mimetype": "text/x-python",
   "name": "python",
   "nbconvert_exporter": "python",
   "pygments_lexer": "ipython3",
   "version": "3.11.5"
  }
 },
 "nbformat": 4,
 "nbformat_minor": 5
}
