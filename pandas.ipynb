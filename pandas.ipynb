{
 "cells": [
  {
   "cell_type": "markdown",
   "id": "b4858ee9",
   "metadata": {},
   "source": [
    "## PANDAS\n",
    "- Powerful module that is built and optimized on top of Numpy.\n",
    "- It provides a set of data structures particularly suited to time-series and spreadsheet style data analysis just as like pivot tables in excel.\n",
    "- It provides a _Dataframe_ object built on a Numpy platform to ease data manipulation more especially for time-series for statistical processing.\n",
    "- Pandas is popular in Quantitative finance.\n",
    "\n",
    "**Key Features of Pandas**\n",
    "* Fast data manipulation and alignment.\n",
    "* Tools for exchanging data between different formats and between different SQL databases.\n",
    "* Handling missing data.\n",
    "* Cleaning up messy data.\n",
    "\n",
    "##### Using Series\n",
    "- The easiest way to think about Pandas Series object is as a container for the Numpy arrays one for index and one for the data. That is Numpy arrays have integer indexing just like regular Python lists."
   ]
  },
  {
   "cell_type": "code",
   "execution_count": 1,
   "id": "f47b131a",
   "metadata": {},
   "outputs": [],
   "source": [
    "# Importing the numpy and pandas modules\n",
    "import numpy as np\n",
    "import pandas as pd"
   ]
  },
  {
   "cell_type": "code",
   "execution_count": 2,
   "id": "915f1f53",
   "metadata": {},
   "outputs": [
    {
     "data": {
      "text/plain": [
       "0     1\n",
       "1     2\n",
       "2    30\n",
       "3     0\n",
       "4    18\n",
       "5    20\n",
       "dtype: int64"
      ]
     },
     "execution_count": 2,
     "metadata": {},
     "output_type": "execute_result"
    }
   ],
   "source": [
    "x = pd.Series([1, 2, 30, 0, 18, 20])\n",
    "x"
   ]
  },
  {
   "cell_type": "markdown",
   "id": "40fb9ba0",
   "metadata": {},
   "source": [
    "You can index the object i.e through slicing."
   ]
  },
  {
   "cell_type": "code",
   "execution_count": 3,
   "id": "b21c451d",
   "metadata": {},
   "outputs": [
    {
     "data": {
      "text/plain": [
       "1     2\n",
       "2    30\n",
       "dtype: int64"
      ]
     },
     "execution_count": 3,
     "metadata": {},
     "output_type": "execute_result"
    }
   ],
   "source": [
    "x[1:3] # Numpy slicing"
   ]
  },
  {
   "cell_type": "markdown",
   "id": "0a567782",
   "metadata": {},
   "source": [
    "You can get Numpy arrays directly from the object using the ```values``` keyword"
   ]
  },
  {
   "cell_type": "code",
   "execution_count": 4,
   "id": "afe88342",
   "metadata": {},
   "outputs": [
    {
     "data": {
      "text/plain": [
       "array([ 1,  2, 30,  0, 18, 20], dtype=int64)"
      ]
     },
     "execution_count": 4,
     "metadata": {},
     "output_type": "execute_result"
    }
   ],
   "source": [
    "x.values # Values"
   ]
  },
  {
   "cell_type": "code",
   "execution_count": 5,
   "id": "3ff26e2b",
   "metadata": {},
   "outputs": [
    {
     "data": {
      "text/plain": [
       "array([ 2, 30,  0], dtype=int64)"
      ]
     },
     "execution_count": 5,
     "metadata": {},
     "output_type": "execute_result"
    }
   ],
   "source": [
    "x.values[1:4] # array([ 2, 30,  0], dtype=int64)"
   ]
  },
  {
   "cell_type": "markdown",
   "id": "ac01362c",
   "metadata": {},
   "source": [
    "Get index which is Numpy array like using the ```index``` keyword."
   ]
  },
  {
   "cell_type": "code",
   "execution_count": 6,
   "id": "d9e55da9",
   "metadata": {},
   "outputs": [
    {
     "data": {
      "text/plain": [
       "RangeIndex(start=0, stop=6, step=1)"
      ]
     },
     "execution_count": 6,
     "metadata": {},
     "output_type": "execute_result"
    }
   ],
   "source": [
    "x.index # RangeIndex(start=0, stop=6, step=1)"
   ]
  },
  {
   "cell_type": "markdown",
   "id": "f70566ed",
   "metadata": {},
   "source": [
    "You can have mixed types unlike in Numpy arrays."
   ]
  },
  {
   "cell_type": "code",
   "execution_count": 7,
   "id": "06caf42c",
   "metadata": {},
   "outputs": [
    {
     "data": {
      "text/plain": [
       "0            10\n",
       "1            20\n",
       "2            30\n",
       "3       Oranges\n",
       "4     Avocadoes\n",
       "5    More stuff\n",
       "dtype: object"
      ]
     },
     "execution_count": 7,
     "metadata": {},
     "output_type": "execute_result"
    }
   ],
   "source": [
    "data = pd.Series([10, 20, 30, 'Oranges', 'Avocadoes', 'More stuff'])\n",
    "data"
   ]
  },
  {
   "cell_type": "code",
   "execution_count": 8,
   "id": "170d5d8a",
   "metadata": {},
   "outputs": [
    {
     "data": {
      "text/plain": [
       "RangeIndex(start=0, stop=6, step=1)"
      ]
     },
     "execution_count": 8,
     "metadata": {},
     "output_type": "execute_result"
    }
   ],
   "source": [
    "data.index # Series index"
   ]
  },
  {
   "cell_type": "code",
   "execution_count": 9,
   "id": "4907a38a",
   "metadata": {},
   "outputs": [
    {
     "data": {
      "text/plain": [
       "10"
      ]
     },
     "execution_count": 9,
     "metadata": {},
     "output_type": "execute_result"
    }
   ],
   "source": [
    "data[0] # 10"
   ]
  },
  {
   "cell_type": "code",
   "execution_count": 10,
   "id": "2395f108",
   "metadata": {},
   "outputs": [
    {
     "data": {
      "text/plain": [
       "0           10\n",
       "1           20\n",
       "2           30\n",
       "3      Oranges\n",
       "4    Avocadoes\n",
       "dtype: object"
      ]
     },
     "execution_count": 10,
     "metadata": {},
     "output_type": "execute_result"
    }
   ],
   "source": [
    "data[:-1]"
   ]
  },
  {
   "cell_type": "code",
   "execution_count": 11,
   "id": "f42bdda0",
   "metadata": {},
   "outputs": [
    {
     "data": {
      "text/plain": [
       "dtype('O')"
      ]
     },
     "execution_count": 11,
     "metadata": {},
     "output_type": "execute_result"
    }
   ],
   "source": [
    "data.dtype # object data type"
   ]
  },
  {
   "cell_type": "markdown",
   "id": "b8db55e4",
   "metadata": {},
   "source": [
    "**Note:** Mixed types in a single column can lead to downstream inefficiencies and other problems. The index in the _Series_ generalizes beyond integer indexing. For example:"
   ]
  },
  {
   "cell_type": "code",
   "execution_count": 12,
   "id": "7bc4f5c1",
   "metadata": {},
   "outputs": [
    {
     "data": {
      "text/plain": [
       "3"
      ]
     },
     "execution_count": 12,
     "metadata": {},
     "output_type": "execute_result"
    }
   ],
   "source": [
    "y = pd.Series([1,2,3], index=['a', 'b', 'cat'])\n",
    "y['a'] # 1\n",
    "y['cat'] # 3"
   ]
  },
  {
   "cell_type": "markdown",
   "id": "25e0c5e3",
   "metadata": {},
   "source": [
    "Because of its legacy as a financil data processing too, Pandas is really good at managing time-series."
   ]
  },
  {
   "cell_type": "code",
   "execution_count": 13,
   "id": "7200407e",
   "metadata": {},
   "outputs": [
    {
     "data": {
      "text/plain": [
       "2021-01-01     0\n",
       "2021-01-02     1\n",
       "2021-01-03     2\n",
       "2021-01-04     3\n",
       "2021-01-05     4\n",
       "2021-01-06     5\n",
       "2021-01-07     6\n",
       "2021-01-08     7\n",
       "2021-01-09     8\n",
       "2021-01-10     9\n",
       "2021-01-11    10\n",
       "2021-01-12    11\n",
       "Freq: D, dtype: int64"
      ]
     },
     "execution_count": 13,
     "metadata": {},
     "output_type": "execute_result"
    }
   ],
   "source": [
    "dates = pd.date_range('20210101', periods=12)\n",
    "z = pd.Series(range(12), index=dates) # Explicitly assign index\n",
    "z # Default calendar-daily"
   ]
  },
  {
   "cell_type": "markdown",
   "id": "b00b51dd",
   "metadata": {},
   "source": [
    "You can only do basic descriptive statistics on the data and not the index."
   ]
  },
  {
   "cell_type": "code",
   "execution_count": 14,
   "id": "ac2919d1",
   "metadata": {},
   "outputs": [
    {
     "data": {
      "text/plain": [
       "5.5"
      ]
     },
     "execution_count": 14,
     "metadata": {},
     "output_type": "execute_result"
    }
   ],
   "source": [
    "z.mean()"
   ]
  },
  {
   "cell_type": "code",
   "execution_count": 15,
   "id": "ab6569e9",
   "metadata": {},
   "outputs": [
    {
     "data": {
      "text/plain": [
       "3.605551275463989"
      ]
     },
     "execution_count": 15,
     "metadata": {},
     "output_type": "execute_result"
    }
   ],
   "source": [
    "z.std()"
   ]
  },
  {
   "cell_type": "markdown",
   "id": "7199eaa6",
   "metadata": {},
   "source": [
    "You can also plot the serie using its methods:"
   ]
  },
  {
   "cell_type": "code",
   "execution_count": 16,
   "id": "4bf194d4",
   "metadata": {},
   "outputs": [
    {
     "data": {
      "text/plain": [
       "<Axes: >"
      ]
     },
     "execution_count": 16,
     "metadata": {},
     "output_type": "execute_result"
    },
    {
     "data": {
      "image/png": "[encoded data removed]",
      "text/plain": [
       "<Figure size 640x480 with 1 Axes>"
      ]
     },
     "metadata": {},
     "output_type": "display_data"
    }
   ],
   "source": [
    "z.plot(kind='bar', alpha=0.3, color='darkgreen')# You can add extra matplotlib keywords"
   ]
  },
  {
   "cell_type": "markdown",
   "id": "ac37e499",
   "metadata": {},
   "source": [
    "- Data can be summarized by the index for example; to count the individual days of the week for which we had data:"
   ]
  },
  {
   "cell_type": "code",
   "execution_count": 17,
   "id": "8f713554",
   "metadata": {},
   "outputs": [
    {
     "data": {
      "text/plain": [
       "0    2\n",
       "1    2\n",
       "2    1\n",
       "3    1\n",
       "4    2\n",
       "5    2\n",
       "6    2\n",
       "dtype: int64"
      ]
     },
     "execution_count": 17,
     "metadata": {},
     "output_type": "execute_result"
    }
   ],
   "source": [
    "z.groupby(by=lambda i:i.dayofweek).count()"
   ]
  },
  {
   "cell_type": "markdown",
   "id": "b3c7ebef",
   "metadata": {},
   "source": [
    "- The convention 0 is Monday, 1 is Tuesday and so forth.\n",
    "- The ```groupby``` method partition the data into disjoint groups based on the predicate given via the ```by``` keyword argument. Consider the following Series:"
   ]
  },
  {
   "cell_type": "code",
   "execution_count": 18,
   "id": "d1a8f208",
   "metadata": {},
   "outputs": [
    {
     "data": {
      "text/plain": [
       "1     0\n",
       "2     1\n",
       "10    2\n",
       "19    3\n",
       "6     4\n",
       "dtype: int64"
      ]
     },
     "execution_count": 18,
     "metadata": {},
     "output_type": "execute_result"
    }
   ],
   "source": [
    "m = pd.Series(range(5), index=[1,2, 10, 19, 6])\n",
    "m"
   ]
  },
  {
   "cell_type": "markdown",
   "id": "7c4791ac",
   "metadata": {},
   "source": [
    "- Let us group it in the following according to whether the elements in the values are _even_ or _odd_ using the modulus(%) operator."
   ]
  },
  {
   "cell_type": "code",
   "execution_count": 19,
   "id": "6f82daa1",
   "metadata": {},
   "outputs": [
    {
     "data": {
      "text/plain": [
       "2     1\n",
       "10    2\n",
       "6     4\n",
       "dtype: int64"
      ]
     },
     "execution_count": 19,
     "metadata": {},
     "output_type": "execute_result"
    }
   ],
   "source": [
    "grp = m.groupby(lambda i:i%2) # Odd or Even\n",
    "grp.get_group(0) # Even group"
   ]
  },
  {
   "cell_type": "code",
   "execution_count": 20,
   "id": "77f8d48e",
   "metadata": {},
   "outputs": [
    {
     "data": {
      "text/plain": [
       "1     0\n",
       "19    3\n",
       "dtype: int64"
      ]
     },
     "execution_count": 20,
     "metadata": {},
     "output_type": "execute_result"
    }
   ],
   "source": [
    "grp.get_group(1) # Odd group"
   ]
  },
  {
   "cell_type": "markdown",
   "id": "60aa5c66",
   "metadata": {},
   "source": [
    "- The first line groups the elements of the series object by whether or not the index is even or not.\n",
    "- The ```lambda``` function returns **0** or **1** depending on whether or not the corresponding index is even or odd respectively.\n",
    "- To reduce it to a single value we can perform alot o summarization. For example , in the following we get the maximum value for each group:"
   ]
  },
  {
   "cell_type": "code",
   "execution_count": 21,
   "id": "80aba8e6",
   "metadata": {},
   "outputs": [
    {
     "data": {
      "text/plain": [
       "0    4\n",
       "1    3\n",
       "dtype: int64"
      ]
     },
     "execution_count": 21,
     "metadata": {},
     "output_type": "execute_result"
    }
   ],
   "source": [
    "grp.max()"
   ]
  },
  {
   "cell_type": "markdown",
   "id": "8eba55b9",
   "metadata": {},
   "source": [
    "**Note:** The operation above return another _Series_ object with an _index_ corresponding to _[0, 1]_ elements. There will be as many groups as there are unique outputs of the ```by``` function."
   ]
  },
  {
   "cell_type": "markdown",
   "id": "f7ae2992",
   "metadata": {},
   "source": [
    "#### DataFrame\n",
    "_DataFrame:_ is an encapsulation of group of Series objects that share a single index.\n",
    "- DataFrame can be created with dictionaries as in the following:"
   ]
  },
  {
   "cell_type": "code",
   "execution_count": 22,
   "id": "2c4e5d75",
   "metadata": {},
   "outputs": [
    {
     "data": {
      "text/html": [
       "<div>\n",
       "<style scoped>\n",
       "    .dataframe tbody tr th:only-of-type {\n",
       "        vertical-align: middle;\n",
       "    }\n",
       "\n",
       "    .dataframe tbody tr th {\n",
       "        vertical-align: top;\n",
       "    }\n",
       "\n",
       "    .dataframe thead th {\n",
       "        text-align: right;\n",
       "    }\n",
       "</style>\n",
       "<table border=\"1\" class=\"dataframe\">\n",
       "  <thead>\n",
       "    <tr style=\"text-align: right;\">\n",
       "      <th></th>\n",
       "      <th>col1</th>\n",
       "      <th>col2</th>\n",
       "    </tr>\n",
       "  </thead>\n",
       "  <tbody>\n",
       "    <tr>\n",
       "      <th>0</th>\n",
       "      <td>1</td>\n",
       "      <td>10</td>\n",
       "    </tr>\n",
       "    <tr>\n",
       "      <th>1</th>\n",
       "      <td>2</td>\n",
       "      <td>20</td>\n",
       "    </tr>\n",
       "    <tr>\n",
       "      <th>2</th>\n",
       "      <td>4</td>\n",
       "      <td>30</td>\n",
       "    </tr>\n",
       "    <tr>\n",
       "      <th>3</th>\n",
       "      <td>5</td>\n",
       "      <td>40</td>\n",
       "    </tr>\n",
       "  </tbody>\n",
       "</table>\n",
       "</div>"
      ],
      "text/plain": [
       "   col1  col2\n",
       "0     1    10\n",
       "1     2    20\n",
       "2     4    30\n",
       "3     5    40"
      ]
     },
     "execution_count": 22,
     "metadata": {},
     "output_type": "execute_result"
    }
   ],
   "source": [
    "# Creating a DataFrame using a dictionary\n",
    "df = pd.DataFrame({'col1':[1, 2, 4,5], 'col2':[10,20,30,40]})\n",
    "df"
   ]
  },
  {
   "cell_type": "markdown",
   "id": "8e5d153b",
   "metadata": {},
   "source": [
    "**Note:** Keys in the input dictionary are the headings(labels) of the DataFrame, with their corresponding values from the dictionary.\n",
    "- A DataFrame is also indexed just like the Series object.\n",
    "- We use the ```iloc``` to extract elements from each column. ```iloc``` ignores the given index and return to traditional Numpy slicing."
   ]
  },
  {
   "cell_type": "code",
   "execution_count": 23,
   "id": "c9384176",
   "metadata": {},
   "outputs": [
    {
     "data": {
      "text/html": [
       "<div>\n",
       "<style scoped>\n",
       "    .dataframe tbody tr th:only-of-type {\n",
       "        vertical-align: middle;\n",
       "    }\n",
       "\n",
       "    .dataframe tbody tr th {\n",
       "        vertical-align: top;\n",
       "    }\n",
       "\n",
       "    .dataframe thead th {\n",
       "        text-align: right;\n",
       "    }\n",
       "</style>\n",
       "<table border=\"1\" class=\"dataframe\">\n",
       "  <thead>\n",
       "    <tr style=\"text-align: right;\">\n",
       "      <th></th>\n",
       "      <th>col1</th>\n",
       "      <th>col2</th>\n",
       "    </tr>\n",
       "  </thead>\n",
       "  <tbody>\n",
       "    <tr>\n",
       "      <th>0</th>\n",
       "      <td>1</td>\n",
       "      <td>10</td>\n",
       "    </tr>\n",
       "    <tr>\n",
       "      <th>1</th>\n",
       "      <td>2</td>\n",
       "      <td>20</td>\n",
       "    </tr>\n",
       "  </tbody>\n",
       "</table>\n",
       "</div>"
      ],
      "text/plain": [
       "   col1  col2\n",
       "0     1    10\n",
       "1     2    20"
      ]
     },
     "execution_count": 23,
     "metadata": {},
     "output_type": "execute_result"
    }
   ],
   "source": [
    "df.iloc[:2,:2] # Get a section"
   ]
  },
  {
   "cell_type": "markdown",
   "id": "e75db5a8",
   "metadata": {},
   "source": [
    "OR\n",
    "- by directly slicing"
   ]
  },
  {
   "cell_type": "code",
   "execution_count": 24,
   "id": "e3b90958",
   "metadata": {},
   "outputs": [
    {
     "data": {
      "text/plain": [
       "0    1\n",
       "1    2\n",
       "2    4\n",
       "3    5\n",
       "Name: col1, dtype: int64"
      ]
     },
     "execution_count": 24,
     "metadata": {},
     "output_type": "execute_result"
    }
   ],
   "source": [
    "df['col1'] # Indexing"
   ]
  },
  {
   "cell_type": "markdown",
   "id": "1d7c2a4e",
   "metadata": {},
   "source": [
    "- using the dot notation"
   ]
  },
  {
   "cell_type": "code",
   "execution_count": 25,
   "id": "7ca0e646",
   "metadata": {},
   "outputs": [
    {
     "data": {
      "text/plain": [
       "0    1\n",
       "1    2\n",
       "2    4\n",
       "3    5\n",
       "Name: col1, dtype: int64"
      ]
     },
     "execution_count": 25,
     "metadata": {},
     "output_type": "execute_result"
    }
   ],
   "source": [
    "df.col1 # Dot notation"
   ]
  },
  {
   "cell_type": "markdown",
   "id": "f7606c04",
   "metadata": {},
   "source": [
    "- A DataFrame preserves its column-wise structure even in its subsequent operations."
   ]
  },
  {
   "cell_type": "code",
   "execution_count": 26,
   "id": "6cd5be3b",
   "metadata": {},
   "outputs": [
    {
     "data": {
      "text/plain": [
       "col1     12\n",
       "col2    100\n",
       "dtype: int64"
      ]
     },
     "execution_count": 26,
     "metadata": {},
     "output_type": "execute_result"
    }
   ],
   "source": [
    "# Subsequent operations and column-wise structure\n",
    "df.sum() # Each column is totaled separately"
   ]
  },
  {
   "cell_type": "markdown",
   "id": "3114e2d8",
   "metadata": {},
   "source": [
    "- DataFrames are more powerful in supporting grouping more than the Series. Example:"
   ]
  },
  {
   "cell_type": "code",
   "execution_count": 27,
   "id": "2168587e",
   "metadata": {},
   "outputs": [
    {
     "data": {
      "text/html": [
       "<div>\n",
       "<style scoped>\n",
       "    .dataframe tbody tr th:only-of-type {\n",
       "        vertical-align: middle;\n",
       "    }\n",
       "\n",
       "    .dataframe tbody tr th {\n",
       "        vertical-align: top;\n",
       "    }\n",
       "\n",
       "    .dataframe thead th {\n",
       "        text-align: right;\n",
       "    }\n",
       "</style>\n",
       "<table border=\"1\" class=\"dataframe\">\n",
       "  <thead>\n",
       "    <tr style=\"text-align: right;\">\n",
       "      <th></th>\n",
       "      <th>col1</th>\n",
       "      <th>col2</th>\n",
       "    </tr>\n",
       "  </thead>\n",
       "  <tbody>\n",
       "    <tr>\n",
       "      <th>0</th>\n",
       "      <td>1</td>\n",
       "      <td>1</td>\n",
       "    </tr>\n",
       "    <tr>\n",
       "      <th>1</th>\n",
       "      <td>1</td>\n",
       "      <td>2</td>\n",
       "    </tr>\n",
       "    <tr>\n",
       "      <th>2</th>\n",
       "      <td>0</td>\n",
       "      <td>3</td>\n",
       "    </tr>\n",
       "    <tr>\n",
       "      <th>3</th>\n",
       "      <td>0</td>\n",
       "      <td>4</td>\n",
       "    </tr>\n",
       "  </tbody>\n",
       "</table>\n",
       "</div>"
      ],
      "text/plain": [
       "   col1  col2\n",
       "0     1     1\n",
       "1     1     2\n",
       "2     0     3\n",
       "3     0     4"
      ]
     },
     "execution_count": 27,
     "metadata": {},
     "output_type": "execute_result"
    }
   ],
   "source": [
    "# Make a DataFrame\n",
    "df = pd.DataFrame({'col1':[1,1,0,0], 'col2':[1,2,3,4]})\n",
    "df"
   ]
  },
  {
   "cell_type": "markdown",
   "id": "498af4d0",
   "metadata": {},
   "source": [
    "**Note**\n",
    "- _col1_ has two distinct entries, we can group the data as in the following:"
   ]
  },
  {
   "cell_type": "code",
   "execution_count": 28,
   "id": "5fe6c714",
   "metadata": {},
   "outputs": [
    {
     "data": {
      "text/html": [
       "<div>\n",
       "<style scoped>\n",
       "    .dataframe tbody tr th:only-of-type {\n",
       "        vertical-align: middle;\n",
       "    }\n",
       "\n",
       "    .dataframe tbody tr th {\n",
       "        vertical-align: top;\n",
       "    }\n",
       "\n",
       "    .dataframe thead th {\n",
       "        text-align: right;\n",
       "    }\n",
       "</style>\n",
       "<table border=\"1\" class=\"dataframe\">\n",
       "  <thead>\n",
       "    <tr style=\"text-align: right;\">\n",
       "      <th></th>\n",
       "      <th>col1</th>\n",
       "      <th>col2</th>\n",
       "    </tr>\n",
       "  </thead>\n",
       "  <tbody>\n",
       "    <tr>\n",
       "      <th>2</th>\n",
       "      <td>0</td>\n",
       "      <td>3</td>\n",
       "    </tr>\n",
       "    <tr>\n",
       "      <th>3</th>\n",
       "      <td>0</td>\n",
       "      <td>4</td>\n",
       "    </tr>\n",
       "  </tbody>\n",
       "</table>\n",
       "</div>"
      ],
      "text/plain": [
       "   col1  col2\n",
       "2     0     3\n",
       "3     0     4"
      ]
     },
     "execution_count": 28,
     "metadata": {},
     "output_type": "execute_result"
    }
   ],
   "source": [
    "grp = df.groupby('col1')\n",
    "grp.get_group(0)"
   ]
  },
  {
   "cell_type": "code",
   "execution_count": 29,
   "id": "1a9f5320",
   "metadata": {},
   "outputs": [
    {
     "data": {
      "text/html": [
       "<div>\n",
       "<style scoped>\n",
       "    .dataframe tbody tr th:only-of-type {\n",
       "        vertical-align: middle;\n",
       "    }\n",
       "\n",
       "    .dataframe tbody tr th {\n",
       "        vertical-align: top;\n",
       "    }\n",
       "\n",
       "    .dataframe thead th {\n",
       "        text-align: right;\n",
       "    }\n",
       "</style>\n",
       "<table border=\"1\" class=\"dataframe\">\n",
       "  <thead>\n",
       "    <tr style=\"text-align: right;\">\n",
       "      <th></th>\n",
       "      <th>col1</th>\n",
       "      <th>col2</th>\n",
       "    </tr>\n",
       "  </thead>\n",
       "  <tbody>\n",
       "    <tr>\n",
       "      <th>0</th>\n",
       "      <td>1</td>\n",
       "      <td>1</td>\n",
       "    </tr>\n",
       "    <tr>\n",
       "      <th>1</th>\n",
       "      <td>1</td>\n",
       "      <td>2</td>\n",
       "    </tr>\n",
       "  </tbody>\n",
       "</table>\n",
       "</div>"
      ],
      "text/plain": [
       "   col1  col2\n",
       "0     1     1\n",
       "1     1     2"
      ]
     },
     "execution_count": 29,
     "metadata": {},
     "output_type": "execute_result"
    }
   ],
   "source": [
    "grp.get_group(1)"
   ]
  },
  {
   "cell_type": "markdown",
   "id": "a8510406",
   "metadata": {},
   "source": [
    "- Each group corresponds to entries to which **col1** was either of its two values.\n",
    "- After grouping, we can now functionally summarize each of the groups as in the following:"
   ]
  },
  {
   "cell_type": "code",
   "execution_count": 30,
   "id": "4ce3147f",
   "metadata": {},
   "outputs": [
    {
     "data": {
      "text/html": [
       "<div>\n",
       "<style scoped>\n",
       "    .dataframe tbody tr th:only-of-type {\n",
       "        vertical-align: middle;\n",
       "    }\n",
       "\n",
       "    .dataframe tbody tr th {\n",
       "        vertical-align: top;\n",
       "    }\n",
       "\n",
       "    .dataframe thead th {\n",
       "        text-align: right;\n",
       "    }\n",
       "</style>\n",
       "<table border=\"1\" class=\"dataframe\">\n",
       "  <thead>\n",
       "    <tr style=\"text-align: right;\">\n",
       "      <th></th>\n",
       "      <th>col2</th>\n",
       "    </tr>\n",
       "    <tr>\n",
       "      <th>col1</th>\n",
       "      <th></th>\n",
       "    </tr>\n",
       "  </thead>\n",
       "  <tbody>\n",
       "    <tr>\n",
       "      <th>0</th>\n",
       "      <td>7</td>\n",
       "    </tr>\n",
       "    <tr>\n",
       "      <th>1</th>\n",
       "      <td>3</td>\n",
       "    </tr>\n",
       "  </tbody>\n",
       "</table>\n",
       "</div>"
      ],
      "text/plain": [
       "      col2\n",
       "col1      \n",
       "0        7\n",
       "1        3"
      ]
     },
     "execution_count": 30,
     "metadata": {},
     "output_type": "execute_result"
    }
   ],
   "source": [
    "grp.sum()"
   ]
  },
  {
   "cell_type": "markdown",
   "id": "0900f262",
   "metadata": {},
   "source": [
    "- ```DataFrame``` can compute new columns based on the existing  columns using the ```eval``` method. For example:"
   ]
  },
  {
   "cell_type": "code",
   "execution_count": 31,
   "id": "9131a880",
   "metadata": {},
   "outputs": [
    {
     "data": {
      "text/html": [
       "<div>\n",
       "<style scoped>\n",
       "    .dataframe tbody tr th:only-of-type {\n",
       "        vertical-align: middle;\n",
       "    }\n",
       "\n",
       "    .dataframe tbody tr th {\n",
       "        vertical-align: top;\n",
       "    }\n",
       "\n",
       "    .dataframe thead th {\n",
       "        text-align: right;\n",
       "    }\n",
       "</style>\n",
       "<table border=\"1\" class=\"dataframe\">\n",
       "  <thead>\n",
       "    <tr style=\"text-align: right;\">\n",
       "      <th></th>\n",
       "      <th>col1</th>\n",
       "      <th>col2</th>\n",
       "      <th>col_sum</th>\n",
       "    </tr>\n",
       "  </thead>\n",
       "  <tbody>\n",
       "    <tr>\n",
       "      <th>0</th>\n",
       "      <td>1</td>\n",
       "      <td>1</td>\n",
       "      <td>2</td>\n",
       "    </tr>\n",
       "    <tr>\n",
       "      <th>1</th>\n",
       "      <td>1</td>\n",
       "      <td>2</td>\n",
       "      <td>3</td>\n",
       "    </tr>\n",
       "    <tr>\n",
       "      <th>2</th>\n",
       "      <td>0</td>\n",
       "      <td>3</td>\n",
       "      <td>3</td>\n",
       "    </tr>\n",
       "    <tr>\n",
       "      <th>3</th>\n",
       "      <td>0</td>\n",
       "      <td>4</td>\n",
       "      <td>4</td>\n",
       "    </tr>\n",
       "  </tbody>\n",
       "</table>\n",
       "</div>"
      ],
      "text/plain": [
       "   col1  col2  col_sum\n",
       "0     1     1        2\n",
       "1     1     2        3\n",
       "2     0     3        3\n",
       "3     0     4        4"
      ]
     },
     "execution_count": 31,
     "metadata": {},
     "output_type": "execute_result"
    }
   ],
   "source": [
    "# You can assign the new output to the new column as shown below\n",
    "df['col_sum'] = df.eval('col1+col2')\n",
    "df"
   ]
  },
  {
   "cell_type": "markdown",
   "id": "c33330ac",
   "metadata": {},
   "source": [
    "- We can group using multiple columns"
   ]
  },
  {
   "cell_type": "code",
   "execution_count": 32,
   "id": "84c4b1d6",
   "metadata": {},
   "outputs": [],
   "source": [
    "# grp = df.groupby(['sum_col', 'col1'])"
   ]
  },
  {
   "cell_type": "markdown",
   "id": "bd0257b0",
   "metadata": {},
   "source": [
    "- Doin the sum operation on each group"
   ]
  },
  {
   "cell_type": "code",
   "execution_count": 33,
   "id": "d962f6bc",
   "metadata": {},
   "outputs": [
    {
     "data": {
      "text/html": [
       "<div>\n",
       "<style scoped>\n",
       "    .dataframe tbody tr th:only-of-type {\n",
       "        vertical-align: middle;\n",
       "    }\n",
       "\n",
       "    .dataframe tbody tr th {\n",
       "        vertical-align: top;\n",
       "    }\n",
       "\n",
       "    .dataframe thead th {\n",
       "        text-align: right;\n",
       "    }\n",
       "</style>\n",
       "<table border=\"1\" class=\"dataframe\">\n",
       "  <thead>\n",
       "    <tr style=\"text-align: right;\">\n",
       "      <th></th>\n",
       "      <th>col2</th>\n",
       "    </tr>\n",
       "    <tr>\n",
       "      <th>col1</th>\n",
       "      <th></th>\n",
       "    </tr>\n",
       "  </thead>\n",
       "  <tbody>\n",
       "    <tr>\n",
       "      <th>0</th>\n",
       "      <td>7</td>\n",
       "    </tr>\n",
       "    <tr>\n",
       "      <th>1</th>\n",
       "      <td>3</td>\n",
       "    </tr>\n",
       "  </tbody>\n",
       "</table>\n",
       "</div>"
      ],
      "text/plain": [
       "      col2\n",
       "col1      \n",
       "0        7\n",
       "1        3"
      ]
     },
     "execution_count": 33,
     "metadata": {},
     "output_type": "execute_result"
    }
   ],
   "source": [
    "res = grp.sum()\n",
    "res"
   ]
  },
  {
   "cell_type": "markdown",
   "id": "e510556a",
   "metadata": {},
   "source": [
    "- Use ```unstack``` to obtain a tabular view of the result."
   ]
  },
  {
   "cell_type": "code",
   "execution_count": 34,
   "id": "6118ba66",
   "metadata": {},
   "outputs": [
    {
     "data": {
      "text/plain": [
       "      col1\n",
       "col2  0       7\n",
       "      1       3\n",
       "dtype: int64"
      ]
     },
     "execution_count": 34,
     "metadata": {},
     "output_type": "execute_result"
    }
   ],
   "source": [
    "# Tabular view of the result\n",
    "res.unstack()"
   ]
  },
  {
   "cell_type": "markdown",
   "id": "ea0a4e70",
   "metadata": {},
   "source": [
    "- ```NaN``` values indicate position where there is no entry\n",
    "\n",
    "**Indexing DataFrame**"
   ]
  },
  {
   "cell_type": "code",
   "execution_count": 35,
   "id": "f01972f2",
   "metadata": {},
   "outputs": [
    {
     "data": {
      "text/html": [
       "<div>\n",
       "<style scoped>\n",
       "    .dataframe tbody tr th:only-of-type {\n",
       "        vertical-align: middle;\n",
       "    }\n",
       "\n",
       "    .dataframe tbody tr th {\n",
       "        vertical-align: top;\n",
       "    }\n",
       "\n",
       "    .dataframe thead th {\n",
       "        text-align: right;\n",
       "    }\n",
       "</style>\n",
       "<table border=\"1\" class=\"dataframe\">\n",
       "  <thead>\n",
       "    <tr style=\"text-align: right;\">\n",
       "      <th></th>\n",
       "      <th>A</th>\n",
       "      <th>B</th>\n",
       "      <th>C</th>\n",
       "      <th>D</th>\n",
       "    </tr>\n",
       "  </thead>\n",
       "  <tbody>\n",
       "    <tr>\n",
       "      <th>2021-01-01</th>\n",
       "      <td>0</td>\n",
       "      <td>1</td>\n",
       "      <td>2</td>\n",
       "      <td>3</td>\n",
       "    </tr>\n",
       "    <tr>\n",
       "      <th>2021-01-02</th>\n",
       "      <td>4</td>\n",
       "      <td>5</td>\n",
       "      <td>6</td>\n",
       "      <td>7</td>\n",
       "    </tr>\n",
       "    <tr>\n",
       "      <th>2021-01-03</th>\n",
       "      <td>8</td>\n",
       "      <td>9</td>\n",
       "      <td>10</td>\n",
       "      <td>11</td>\n",
       "    </tr>\n",
       "    <tr>\n",
       "      <th>2021-01-04</th>\n",
       "      <td>12</td>\n",
       "      <td>13</td>\n",
       "      <td>14</td>\n",
       "      <td>15</td>\n",
       "    </tr>\n",
       "    <tr>\n",
       "      <th>2021-01-05</th>\n",
       "      <td>16</td>\n",
       "      <td>17</td>\n",
       "      <td>18</td>\n",
       "      <td>19</td>\n",
       "    </tr>\n",
       "    <tr>\n",
       "      <th>2021-01-06</th>\n",
       "      <td>20</td>\n",
       "      <td>21</td>\n",
       "      <td>22</td>\n",
       "      <td>23</td>\n",
       "    </tr>\n",
       "    <tr>\n",
       "      <th>2021-01-07</th>\n",
       "      <td>24</td>\n",
       "      <td>25</td>\n",
       "      <td>26</td>\n",
       "      <td>27</td>\n",
       "    </tr>\n",
       "    <tr>\n",
       "      <th>2021-01-08</th>\n",
       "      <td>28</td>\n",
       "      <td>29</td>\n",
       "      <td>30</td>\n",
       "      <td>31</td>\n",
       "    </tr>\n",
       "    <tr>\n",
       "      <th>2021-01-09</th>\n",
       "      <td>32</td>\n",
       "      <td>33</td>\n",
       "      <td>34</td>\n",
       "      <td>35</td>\n",
       "    </tr>\n",
       "    <tr>\n",
       "      <th>2021-01-10</th>\n",
       "      <td>36</td>\n",
       "      <td>37</td>\n",
       "      <td>38</td>\n",
       "      <td>39</td>\n",
       "    </tr>\n",
       "    <tr>\n",
       "      <th>2021-01-11</th>\n",
       "      <td>40</td>\n",
       "      <td>41</td>\n",
       "      <td>42</td>\n",
       "      <td>43</td>\n",
       "    </tr>\n",
       "    <tr>\n",
       "      <th>2021-01-12</th>\n",
       "      <td>44</td>\n",
       "      <td>45</td>\n",
       "      <td>46</td>\n",
       "      <td>47</td>\n",
       "    </tr>\n",
       "  </tbody>\n",
       "</table>\n",
       "</div>"
      ],
      "text/plain": [
       "             A   B   C   D\n",
       "2021-01-01   0   1   2   3\n",
       "2021-01-02   4   5   6   7\n",
       "2021-01-03   8   9  10  11\n",
       "2021-01-04  12  13  14  15\n",
       "2021-01-05  16  17  18  19\n",
       "2021-01-06  20  21  22  23\n",
       "2021-01-07  24  25  26  27\n",
       "2021-01-08  28  29  30  31\n",
       "2021-01-09  32  33  34  35\n",
       "2021-01-10  36  37  38  39\n",
       "2021-01-11  40  41  42  43\n",
       "2021-01-12  44  45  46  47"
      ]
     },
     "execution_count": 35,
     "metadata": {},
     "output_type": "execute_result"
    }
   ],
   "source": [
    "data = np.arange(len(dates) * 4).reshape(-1,4)\n",
    "df = pd.DataFrame(data, index=dates, columns=['A', 'B', 'C', 'D'])\n",
    "df"
   ]
  },
  {
   "cell_type": "markdown",
   "id": "d1fd9319",
   "metadata": {},
   "source": [
    "- You can access each column by \n",
    "\n",
    "    - Column name"
   ]
  },
  {
   "cell_type": "code",
   "execution_count": 36,
   "id": "8207f3af",
   "metadata": {},
   "outputs": [
    {
     "data": {
      "text/plain": [
       "2021-01-01     0\n",
       "2021-01-02     4\n",
       "2021-01-03     8\n",
       "2021-01-04    12\n",
       "2021-01-05    16\n",
       "2021-01-06    20\n",
       "2021-01-07    24\n",
       "2021-01-08    28\n",
       "2021-01-09    32\n",
       "2021-01-10    36\n",
       "2021-01-11    40\n",
       "2021-01-12    44\n",
       "Freq: D, Name: A, dtype: int32"
      ]
     },
     "execution_count": 36,
     "metadata": {},
     "output_type": "execute_result"
    }
   ],
   "source": [
    "# Using column name\n",
    "df['A']"
   ]
  },
  {
   "cell_type": "markdown",
   "id": "43bf5f0c",
   "metadata": {},
   "source": [
    "    - Using a quicker basic computing and indexing"
   ]
  },
  {
   "cell_type": "code",
   "execution_count": 37,
   "id": "d4b6f1c9",
   "metadata": {},
   "outputs": [
    {
     "data": {
      "text/plain": [
       "2021-01-01     0\n",
       "2021-01-02     4\n",
       "2021-01-03     8\n",
       "2021-01-04    12\n",
       "2021-01-05    16\n",
       "2021-01-06    20\n",
       "2021-01-07    24\n",
       "2021-01-08    28\n",
       "2021-01-09    32\n",
       "2021-01-10    36\n",
       "2021-01-11    40\n",
       "2021-01-12    44\n",
       "Freq: D, Name: A, dtype: int32"
      ]
     },
     "execution_count": 37,
     "metadata": {},
     "output_type": "execute_result"
    }
   ],
   "source": [
    "df.A"
   ]
  },
  {
   "cell_type": "markdown",
   "id": "6dd97ee5",
   "metadata": {},
   "source": [
    "- We can do some basic computing and indexing"
   ]
  },
  {
   "cell_type": "code",
   "execution_count": 39,
   "id": "c81aa1a7",
   "metadata": {},
   "outputs": [
    {
     "data": {
      "text/html": [
       "<div>\n",
       "<style scoped>\n",
       "    .dataframe tbody tr th:only-of-type {\n",
       "        vertical-align: middle;\n",
       "    }\n",
       "\n",
       "    .dataframe tbody tr th {\n",
       "        vertical-align: top;\n",
       "    }\n",
       "\n",
       "    .dataframe thead th {\n",
       "        text-align: right;\n",
       "    }\n",
       "</style>\n",
       "<table border=\"1\" class=\"dataframe\">\n",
       "  <thead>\n",
       "    <tr style=\"text-align: right;\">\n",
       "      <th></th>\n",
       "      <th>A</th>\n",
       "      <th>B</th>\n",
       "      <th>C</th>\n",
       "      <th>D</th>\n",
       "    </tr>\n",
       "  </thead>\n",
       "  <tbody>\n",
       "    <tr>\n",
       "      <th>2021-01-01</th>\n",
       "      <td>0</td>\n",
       "      <td>1</td>\n",
       "      <td>2</td>\n",
       "      <td>3</td>\n",
       "    </tr>\n",
       "    <tr>\n",
       "      <th>2021-01-02</th>\n",
       "      <td>4</td>\n",
       "      <td>5</td>\n",
       "      <td>6</td>\n",
       "      <td>7</td>\n",
       "    </tr>\n",
       "    <tr>\n",
       "      <th>2021-01-03</th>\n",
       "      <td>8</td>\n",
       "      <td>9</td>\n",
       "      <td>10</td>\n",
       "      <td>11</td>\n",
       "    </tr>\n",
       "    <tr>\n",
       "      <th>2021-01-04</th>\n",
       "      <td>12</td>\n",
       "      <td>13</td>\n",
       "      <td>14</td>\n",
       "      <td>15</td>\n",
       "    </tr>\n",
       "  </tbody>\n",
       "</table>\n",
       "</div>"
      ],
      "text/plain": [
       "             A   B   C   D\n",
       "2021-01-01   0   1   2   3\n",
       "2021-01-02   4   5   6   7\n",
       "2021-01-03   8   9  10  11\n",
       "2021-01-04  12  13  14  15"
      ]
     },
     "execution_count": 39,
     "metadata": {},
     "output_type": "execute_result"
    }
   ],
   "source": [
    "df.loc[:dates[3]] # This includes the endpoints unlike in the Python convention"
   ]
  },
  {
   "cell_type": "code",
   "execution_count": 41,
   "id": "8bf6db63",
   "metadata": {},
   "outputs": [
    {
     "data": {
      "text/html": [
       "<div>\n",
       "<style scoped>\n",
       "    .dataframe tbody tr th:only-of-type {\n",
       "        vertical-align: middle;\n",
       "    }\n",
       "\n",
       "    .dataframe tbody tr th {\n",
       "        vertical-align: top;\n",
       "    }\n",
       "\n",
       "    .dataframe thead th {\n",
       "        text-align: right;\n",
       "    }\n",
       "</style>\n",
       "<table border=\"1\" class=\"dataframe\">\n",
       "  <thead>\n",
       "    <tr style=\"text-align: right;\">\n",
       "      <th></th>\n",
       "      <th>A</th>\n",
       "      <th>B</th>\n",
       "      <th>C</th>\n",
       "    </tr>\n",
       "  </thead>\n",
       "  <tbody>\n",
       "    <tr>\n",
       "      <th>2021-01-01</th>\n",
       "      <td>0</td>\n",
       "      <td>1</td>\n",
       "      <td>2</td>\n",
       "    </tr>\n",
       "    <tr>\n",
       "      <th>2021-01-02</th>\n",
       "      <td>4</td>\n",
       "      <td>5</td>\n",
       "      <td>6</td>\n",
       "    </tr>\n",
       "    <tr>\n",
       "      <th>2021-01-03</th>\n",
       "      <td>8</td>\n",
       "      <td>9</td>\n",
       "      <td>10</td>\n",
       "    </tr>\n",
       "    <tr>\n",
       "      <th>2021-01-04</th>\n",
       "      <td>12</td>\n",
       "      <td>13</td>\n",
       "      <td>14</td>\n",
       "    </tr>\n",
       "    <tr>\n",
       "      <th>2021-01-05</th>\n",
       "      <td>16</td>\n",
       "      <td>17</td>\n",
       "      <td>18</td>\n",
       "    </tr>\n",
       "    <tr>\n",
       "      <th>2021-01-06</th>\n",
       "      <td>20</td>\n",
       "      <td>21</td>\n",
       "      <td>22</td>\n",
       "    </tr>\n",
       "    <tr>\n",
       "      <th>2021-01-07</th>\n",
       "      <td>24</td>\n",
       "      <td>25</td>\n",
       "      <td>26</td>\n",
       "    </tr>\n",
       "    <tr>\n",
       "      <th>2021-01-08</th>\n",
       "      <td>28</td>\n",
       "      <td>29</td>\n",
       "      <td>30</td>\n",
       "    </tr>\n",
       "    <tr>\n",
       "      <th>2021-01-09</th>\n",
       "      <td>32</td>\n",
       "      <td>33</td>\n",
       "      <td>34</td>\n",
       "    </tr>\n",
       "    <tr>\n",
       "      <th>2021-01-10</th>\n",
       "      <td>36</td>\n",
       "      <td>37</td>\n",
       "      <td>38</td>\n",
       "    </tr>\n",
       "    <tr>\n",
       "      <th>2021-01-11</th>\n",
       "      <td>40</td>\n",
       "      <td>41</td>\n",
       "      <td>42</td>\n",
       "    </tr>\n",
       "    <tr>\n",
       "      <th>2021-01-12</th>\n",
       "      <td>44</td>\n",
       "      <td>45</td>\n",
       "      <td>46</td>\n",
       "    </tr>\n",
       "  </tbody>\n",
       "</table>\n",
       "</div>"
      ],
      "text/plain": [
       "             A   B   C\n",
       "2021-01-01   0   1   2\n",
       "2021-01-02   4   5   6\n",
       "2021-01-03   8   9  10\n",
       "2021-01-04  12  13  14\n",
       "2021-01-05  16  17  18\n",
       "2021-01-06  20  21  22\n",
       "2021-01-07  24  25  26\n",
       "2021-01-08  28  29  30\n",
       "2021-01-09  32  33  34\n",
       "2021-01-10  36  37  38\n",
       "2021-01-11  40  41  42\n",
       "2021-01-12  44  45  46"
      ]
     },
     "execution_count": 41,
     "metadata": {},
     "output_type": "execute_result"
    }
   ],
   "source": [
    "df.loc[:,'A':'C'] # All rows by slice of column labels"
   ]
  },
  {
   "cell_type": "markdown",
   "id": "029425ed",
   "metadata": {},
   "source": [
    "#### Reindexing"
   ]
  },
  {
   "cell_type": "code",
   "execution_count": null,
   "id": "4749fbc6",
   "metadata": {},
   "outputs": [],
   "source": []
  }
 ],
 "metadata": {
  "kernelspec": {
   "display_name": "Python 3 (ipykernel)",
   "language": "python",
   "name": "python3"
  },
  "language_info": {
   "codemirror_mode": {
    "name": "ipython",
    "version": 3
   },
   "file_extension": ".py",
   "mimetype": "text/x-python",
   "name": "python",
   "nbconvert_exporter": "python",
   "pygments_lexer": "ipython3",
   "version": "3.11.5"
  }
 },
 "nbformat": 4,
 "nbformat_minor": 5
}
