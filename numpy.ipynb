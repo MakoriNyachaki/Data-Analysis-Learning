{
 "cells": [
  {
   "cell_type": "markdown",
   "id": "824a93e5",
   "metadata": {},
   "source": [
    "## NUMPY\n",
    "\n",
    "- Numpy provides a seamless way to manage numerical arrays in Python.\n",
    "- It is the foundational pillar of some scientific computing Python modules.\n",
    "- To use numpy you have to import the module into the notebook."
   ]
  },
  {
   "cell_type": "code",
   "execution_count": 1,
   "id": "81c4a39d",
   "metadata": {},
   "outputs": [],
   "source": [
    "import numpy as np # naming convention"
   ]
  },
  {
   "cell_type": "markdown",
   "id": "b93c2f43",
   "metadata": {},
   "source": [
    "#### Dtypes\n",
    "- It permits fine-grained specification of numbers types even though Python is dynamically typed.\n",
    "- Example:"
   ]
  },
  {
   "cell_type": "code",
   "execution_count": 2,
   "id": "4214d9f6",
   "metadata": {},
   "outputs": [
    {
     "data": {
      "text/plain": [
       "2"
      ]
     },
     "execution_count": 2,
     "metadata": {},
     "output_type": "execute_result"
    }
   ],
   "source": [
    "a = np.array([0], np.int16) # 16-bit integer\n",
    "a.itemsize # in 8-bit bytes; Output: 2\n",
    "a.nbytes # 2"
   ]
  },
  {
   "cell_type": "code",
   "execution_count": 3,
   "id": "6af01acf",
   "metadata": {},
   "outputs": [
    {
     "data": {
      "text/plain": [
       "8"
      ]
     },
     "execution_count": 3,
     "metadata": {},
     "output_type": "execute_result"
    }
   ],
   "source": [
    "a = np.array([0], np.int64) # 64-bit integer\n",
    "a.itemsize # 8"
   ]
  },
  {
   "cell_type": "markdown",
   "id": "38fb7186",
   "metadata": {},
   "source": [
    "##### Properties of numpy arrays\n",
    "1. Numerical arrays follow the same pattern. Forexample:"
   ]
  },
  {
   "cell_type": "code",
   "execution_count": 4,
   "id": "b65639b5",
   "metadata": {},
   "outputs": [
    {
     "data": {
      "text/plain": [
       "(4,)"
      ]
     },
     "execution_count": 4,
     "metadata": {},
     "output_type": "execute_result"
    }
   ],
   "source": [
    "a = np.array([1, 2, 3, 8], np.int64) # 64-bit integer\n",
    "a.shape # (4, )"
   ]
  },
  {
   "cell_type": "markdown",
   "id": "c2152c06",
   "metadata": {},
   "source": [
    "2. You can't tack an extra element once the array is created. This is because Python does not allocate a block of memory which has been delienated and numpy doesn't too allocate memory and copy data without explicit instruction.Example:"
   ]
  },
  {
   "cell_type": "code",
   "execution_count": 5,
   "id": "e352176d",
   "metadata": {
    "scrolled": true
   },
   "outputs": [
    {
     "ename": "IndexError",
     "evalue": "index 2 is out of bounds for axis 0 with size 2",
     "output_type": "error",
     "traceback": [
      "\u001b[1;31m---------------------------------------------------------------------------\u001b[0m",
      "\u001b[1;31mIndexError\u001b[0m                                Traceback (most recent call last)",
      "Cell \u001b[1;32mIn[5], line 2\u001b[0m\n\u001b[0;32m      1\u001b[0m n \u001b[38;5;241m=\u001b[39m np\u001b[38;5;241m.\u001b[39marray([\u001b[38;5;241m1\u001b[39m,\u001b[38;5;241m2\u001b[39m])\n\u001b[1;32m----> 2\u001b[0m n[\u001b[38;5;241m2\u001b[39m] \u001b[38;5;241m=\u001b[39m \u001b[38;5;241m89\u001b[39m\n",
      "\u001b[1;31mIndexError\u001b[0m: index 2 is out of bounds for axis 0 with size 2"
     ]
    }
   ],
   "source": [
    "n = np.array([1,2])\n",
    "n[2] = 89 # IndexError"
   ]
  },
  {
   "cell_type": "markdown",
   "id": "9a35fefa",
   "metadata": {},
   "source": [
    "3. Once an array of a specific dtype has been created, you need to cast while assigning to that array type. Example:"
   ]
  },
  {
   "cell_type": "code",
   "execution_count": null,
   "id": "e96fc095",
   "metadata": {},
   "outputs": [],
   "source": [
    "x = np.array(range(5), dtype = int)\n",
    "x[0] = 1.3 # Float assignment does not match assignment\n",
    "x # Output array"
   ]
  },
  {
   "cell_type": "code",
   "execution_count": null,
   "id": "f1870eeb",
   "metadata": {},
   "outputs": [],
   "source": [
    "x[0] = 'This is a string' # ValueError"
   ]
  },
  {
   "cell_type": "markdown",
   "id": "76635ccf",
   "metadata": {},
   "source": [
    "#### Multidimensional Arrays\n",
    "1. Follow the same pattern"
   ]
  },
  {
   "cell_type": "code",
   "execution_count": null,
   "id": "9a8d871e",
   "metadata": {},
   "outputs": [],
   "source": [
    "# Example\n",
    "a = np.array([[1, 4], [8, 9]]) # If the dtype is omitted it picks the default\n",
    "a # array([[1, 4], [8,9]])"
   ]
  },
  {
   "cell_type": "code",
   "execution_count": null,
   "id": "43ab3e5b",
   "metadata": {},
   "outputs": [],
   "source": [
    "a.dtype, a.shape # dtype('int32'), (2, 2)"
   ]
  },
  {
   "cell_type": "code",
   "execution_count": null,
   "id": "a4070c2a",
   "metadata": {},
   "outputs": [],
   "source": [
    "a.flatten() # array([1, 4, 8, 9])"
   ]
  },
  {
   "cell_type": "markdown",
   "id": "92386d34",
   "metadata": {},
   "source": [
    "2. The maximum limit of the number of dimensions depends on the array configuration during numpy build (usually thirty-two). Numpy support different ways of creating multi-D arrays. Examples:"
   ]
  },
  {
   "cell_type": "code",
   "execution_count": null,
   "id": "69cd4fa5",
   "metadata": {},
   "outputs": [],
   "source": [
    "a = np.arange(10) # Analogous to range\n",
    "a # array([0, 1, 2, 3, 4, 5, 6, 7, 8, 9])"
   ]
  },
  {
   "cell_type": "code",
   "execution_count": null,
   "id": "37489f2c",
   "metadata": {},
   "outputs": [],
   "source": [
    "a = np.zeros((2, 2))\n",
    "a #array([[0., 0.], [0., 0.]])"
   ]
  },
  {
   "cell_type": "code",
   "execution_count": null,
   "id": "1cd833f2",
   "metadata": {},
   "outputs": [],
   "source": [
    "a = np.ones((2,2))\n",
    "a #array([[1., 1.], [1., 1.]])"
   ]
  },
  {
   "cell_type": "code",
   "execution_count": null,
   "id": "9aff511d",
   "metadata": {},
   "outputs": [],
   "source": [
    "x,y = np.meshgrid([1,2,3], [23, 45])\n",
    "x # array([[1, 2, 3], [1, 2, 3]])"
   ]
  },
  {
   "cell_type": "code",
   "execution_count": null,
   "id": "1be987f6",
   "metadata": {},
   "outputs": [],
   "source": [
    "y # array([[5, 5, 5], [6, 6, 6]])"
   ]
  },
  {
   "cell_type": "markdown",
   "id": "a5569516",
   "metadata": {},
   "source": [
    "3. You can use function to create arrays. Example"
   ]
  },
  {
   "cell_type": "code",
   "execution_count": null,
   "id": "79b00372",
   "metadata": {},
   "outputs": [],
   "source": [
    "m = np.fromfunction(lambda i, j: abs(i-j) < 1, (4,4))\n",
    "m #array([[ True, False, False, False], False,  True, False, False], [False, False,  True, False], [False, False, False,  True]])"
   ]
  },
  {
   "cell_type": "markdown",
   "id": "25994239",
   "metadata": {},
   "source": [
    "4. Numpy arrays can have field names. Example:"
   ]
  },
  {
   "cell_type": "code",
   "execution_count": 7,
   "id": "c5ceb1b1",
   "metadata": {},
   "outputs": [
    {
     "data": {
      "text/plain": [
       "array([[0., 0.],\n",
       "       [0., 0.]], dtype=float32)"
      ]
     },
     "execution_count": 7,
     "metadata": {},
     "output_type": "execute_result"
    }
   ],
   "source": [
    "f = np.zeros((2, 2), dtype = [('x', 'f4')])\n",
    "f['x'] # array([[0., 0.], [0., 0.]], dtype=float32)"
   ]
  },
  {
   "cell_type": "markdown",
   "id": "3125fbcd",
   "metadata": {},
   "source": [
    "5. They can be accessed by their attributes."
   ]
  },
  {
   "cell_type": "code",
   "execution_count": null,
   "id": "2cca5f41",
   "metadata": {},
   "outputs": [],
   "source": [
    "# Example\n",
    "x = np.array([(1,8), (2, 9), (3, 10), (4, 11)], \n",
    "             dtype=[('value', 'f4'), ('amount', 'c8')])\n",
    "x['value'] # array([1., 2., 3., 4.], dtype=float32)"
   ]
  },
  {
   "cell_type": "code",
   "execution_count": null,
   "id": "0cc72180",
   "metadata": {},
   "outputs": [],
   "source": [
    "y = x.view(np.recarray)\n",
    "y.amount #array([ 8.+0.j,  9.+0.j, 10.+0.j, 11.+0.j], dtype=complex64)"
   ]
  },
  {
   "cell_type": "code",
   "execution_count": null,
   "id": "2a08d0d4",
   "metadata": {},
   "outputs": [],
   "source": [
    "y.value # array([1., 2., 3., 4.], dtype=float32)"
   ]
  },
  {
   "cell_type": "markdown",
   "id": "07b0b815",
   "metadata": {},
   "source": [
    "#### Reshaping and Stacking Arrays\n",
    "- Arrays can be stacked horizontally or vertically. This can be achieved by using the ```hstack``` or ```vstack``` methods for horizontal and vertical stacking repectively.\n",
    "- Example:"
   ]
  },
  {
   "cell_type": "code",
   "execution_count": 8,
   "id": "bbdc9b8c",
   "metadata": {},
   "outputs": [
    {
     "data": {
      "text/plain": [
       "array([ 0,  1,  2,  3,  4, 10, 20, 30, 40, 50])"
      ]
     },
     "execution_count": 8,
     "metadata": {},
     "output_type": "execute_result"
    }
   ],
   "source": [
    "x = np.arange(5)\n",
    "y = np.array([10, 20, 30, 40, 50])\n",
    "\n",
    "# Horizontal stacking\n",
    "np.hstack([x, y]) # array([ 0,  1,  2,  3,  4, 10, 20, 30, 40, 50])"
   ]
  },
  {
   "cell_type": "code",
   "execution_count": null,
   "id": "857ffa0d",
   "metadata": {},
   "outputs": [],
   "source": [
    "# Vertical Stacking\n",
    "np.vstack([x,y]) # array([[ 0,  1,  2,  3,  4],\n",
    "                # [10, 20, 30, 40, 50]])"
   ]
  },
  {
   "cell_type": "markdown",
   "id": "a36ea255",
   "metadata": {},
   "source": [
    "- ```dstack``` is used for if you want to stack i the third ```depth``` dimension. Numpy ```np.concatenate``` handles the general arbitrary dimension case.You may find ```np.c_``` or ```np.r_``` used to stack arrays column-wise and row-wise in some codes like ```scikit-learn```:"
   ]
  },
  {
   "cell_type": "code",
   "execution_count": null,
   "id": "a84391e0",
   "metadata": {},
   "outputs": [],
   "source": [
    "# Columnwise\n",
    "np.c_[x, x] "
   ]
  },
  {
   "cell_type": "code",
   "execution_count": null,
   "id": "1ac63f63",
   "metadata": {},
   "outputs": [],
   "source": [
    "# row-wise\n",
    "np.r_[x,x]"
   ]
  },
  {
   "cell_type": "markdown",
   "id": "21295b24",
   "metadata": {},
   "source": [
    "#### Duplicating Numpy Arrays\n",
    "- ```repeat``` function in numpy is use dfro duplicating arrays.\n",
    "- ```tile``` is a more generalized version that lays out  block matrix of the specified shape."
   ]
  },
  {
   "cell_type": "code",
   "execution_count": null,
   "id": "1544fab4",
   "metadata": {},
   "outputs": [],
   "source": [
    "x = np.arange(4)\n",
    "np.repeat(x, 2) # array([0, 0, 1, 1, 2, 2, 3, 3])"
   ]
  },
  {
   "cell_type": "code",
   "execution_count": null,
   "id": "51a7e7c4",
   "metadata": {},
   "outputs": [],
   "source": [
    "np.tile(x, (2, 1)) # array([[0, 1, 2, 3],\n",
    "                           #[0, 1, 2, 3]])"
   ]
  },
  {
   "cell_type": "code",
   "execution_count": null,
   "id": "282ad923",
   "metadata": {},
   "outputs": [],
   "source": [
    "# Non-numerics like strings as items in the array\n",
    "np.array(['a', 'b', 'cow', 'sheep'])# array(['a', 'b', 'cow', 'sheep'], dtype='<U5')"
   ]
  },
  {
   "cell_type": "markdown",
   "id": "bb93e034",
   "metadata": {},
   "source": [
    "*Note:* 'U5' refers to a string lenght of 5, the longest string in the sequence."
   ]
  },
  {
   "cell_type": "markdown",
   "id": "216773ef",
   "metadata": {},
   "source": [
    "- The arrays can be reshaped after creation."
   ]
  },
  {
   "cell_type": "code",
   "execution_count": null,
   "id": "4a56f718",
   "metadata": {},
   "outputs": [],
   "source": [
    "a = np.arange(10).reshape(2, 5)\n",
    "a"
   ]
  },
  {
   "cell_type": "markdown",
   "id": "99f11bf2",
   "metadata": {},
   "source": [
    "- You can replace one of the dimensions above by '-1' i.e. ```reshape(-1,5)``` and Numpy will figure out the conforming other dimension.\n",
    "- The array ```transpose``` method operation is the same as the .T attribute,"
   ]
  },
  {
   "cell_type": "code",
   "execution_count": null,
   "id": "3bed13a3",
   "metadata": {},
   "outputs": [],
   "source": [
    "a.transpose()"
   ]
  },
  {
   "cell_type": "code",
   "execution_count": null,
   "id": "08633ebf",
   "metadata": {},
   "outputs": [],
   "source": [
    "a.T"
   ]
  },
  {
   "cell_type": "markdown",
   "id": "c946f866",
   "metadata": {},
   "source": [
    "- The Hermitian transpose which is a conjugate transpose with ```.H``` attribute.\n"
   ]
  },
  {
   "cell_type": "markdown",
   "id": "15eed059",
   "metadata": {},
   "source": [
    "#### Slicing, Logical Array Operations\n",
    "\n",
    "- Numpy array slicing follows the same zero-indexed slicing logic as Python lists and strings.\n",
    "- Example:"
   ]
  },
  {
   "cell_type": "code",
   "execution_count": null,
   "id": "7ae7fddd",
   "metadata": {},
   "outputs": [],
   "source": [
    "x = np.arange(50).reshape(5, 10)\n",
    "x"
   ]
  },
  {
   "cell_type": "markdown",
   "id": "068c7427",
   "metadata": {},
   "source": [
    "- Slicing along a given dimension we use the colon which means take all along the indicated dimension. Example:"
   ]
  },
  {
   "cell_type": "code",
   "execution_count": null,
   "id": "1299da7b",
   "metadata": {},
   "outputs": [],
   "source": [
    "x[:, 5] # any row, 5th column"
   ]
  },
  {
   "cell_type": "code",
   "execution_count": null,
   "id": "897d322e",
   "metadata": {},
   "outputs": [],
   "source": [
    "x[0,:] # any column, 0th row"
   ]
  },
  {
   "cell_type": "code",
   "execution_count": null,
   "id": "b41b4f1f",
   "metadata": {},
   "outputs": [],
   "source": [
    "x[1:3, 5:8]"
   ]
  },
  {
   "cell_type": "code",
   "execution_count": 9,
   "id": "7cf438fe",
   "metadata": {},
   "outputs": [
    {
     "data": {
      "text/plain": [
       "array([[[ 0,  1,  2,  3],\n",
       "        [ 4,  5,  6,  7],\n",
       "        [ 8,  9, 10, 11]],\n",
       "\n",
       "       [[12, 13, 14, 15],\n",
       "        [16, 17, 18, 19],\n",
       "        [20, 21, 22, 23]]])"
      ]
     },
     "execution_count": 9,
     "metadata": {},
     "output_type": "execute_result"
    }
   ],
   "source": [
    "y = np.arange(2*3*4).reshape(2,3,4) # Reshaping arrays\n",
    "y"
   ]
  },
  {
   "cell_type": "code",
   "execution_count": null,
   "id": "0fde5b38",
   "metadata": {},
   "outputs": [],
   "source": [
    "y[:,1,[2,1]] # index each dimension"
   ]
  },
  {
   "cell_type": "markdown",
   "id": "93b0585a",
   "metadata": {},
   "source": [
    "- ```where``` function can find array elements according to a specific logical cereteria. Example"
   ]
  },
  {
   "cell_type": "code",
   "execution_count": 10,
   "id": "cacf89dc",
   "metadata": {},
   "outputs": [
    {
     "data": {
      "text/plain": [
       "(array([0, 0, 0, 0, 0, 0, 1, 1, 1, 1, 1, 1], dtype=int64),\n",
       " array([0, 0, 1, 1, 2, 2, 0, 0, 1, 1, 2, 2], dtype=int64),\n",
       " array([0, 2, 0, 2, 0, 2, 0, 2, 0, 2, 0, 2], dtype=int64))"
      ]
     },
     "execution_count": 10,
     "metadata": {},
     "output_type": "execute_result"
    }
   ],
   "source": [
    "np.where(y % 2 == 0)"
   ]
  },
  {
   "cell_type": "code",
   "execution_count": null,
   "id": "d9f7235f",
   "metadata": {},
   "outputs": [],
   "source": [
    "y[np.where(y % 2 == 0)]"
   ]
  },
  {
   "cell_type": "code",
   "execution_count": null,
   "id": "ef2ab63a",
   "metadata": {},
   "outputs": [],
   "source": [
    "y[np.where(np.logical_and(y % 2 == 0, y<=20))] # Also logical_or, etc"
   ]
  },
  {
   "cell_type": "markdown",
   "id": "73634e94",
   "metadata": {},
   "source": [
    "- Numpy arrays can be indexed by logical Numpy arrays where only the corresponding ```True``` entries are selected. Example:"
   ]
  },
  {
   "cell_type": "code",
   "execution_count": null,
   "id": "49e902ae",
   "metadata": {},
   "outputs": [],
   "source": [
    "a = np.arange(10).reshape((5,2))\n",
    "a"
   ]
  },
  {
   "cell_type": "code",
   "execution_count": null,
   "id": "2372b7f5",
   "metadata": {},
   "outputs": [],
   "source": [
    "b = np.fromfunction(lambda i,j: abs(i-j) <= 1, (3,3))\n",
    "b"
   ]
  },
  {
   "cell_type": "markdown",
   "id": "78acb928",
   "metadata": {},
   "source": [
    "#### Numpy Arrays and Memory\n",
    "- Numpy uses a pass-by reference semantics so that slice operations are *views* into the arrays without implicit copying, which is consistent with Python's semantics.\n",
    "- This is important more especially for large arrays which strip the available memory.\n",
    "- This is achieved through slicing which creates a view and through indexing that creates copies.\n",
    "\n",
    "##### a. Indexing\n",
    "- If the indexing object is a non-tuple sequence object another Numpy array of type integer or boolean  or a tuple atleast one sequence object or Numpy array the indexing creates copies\n",
    "- Forexample: To extend and copy an existing array in Numpy."
   ]
  },
  {
   "cell_type": "code",
   "execution_count": 11,
   "id": "14ff336c",
   "metadata": {},
   "outputs": [
    {
     "data": {
      "text/plain": [
       "array([[1., 1., 1.],\n",
       "       [1., 1., 1.],\n",
       "       [1., 1., 1.]])"
      ]
     },
     "execution_count": 11,
     "metadata": {},
     "output_type": "execute_result"
    }
   ],
   "source": [
    "x = np.ones((3,3))\n",
    "x"
   ]
  },
  {
   "cell_type": "code",
   "execution_count": null,
   "id": "a04e3052",
   "metadata": {},
   "outputs": [],
   "source": [
    "x[:, [0,1,2,2]] # Notice the duplicated last dimension"
   ]
  },
  {
   "cell_type": "code",
   "execution_count": null,
   "id": "107a372a",
   "metadata": {},
   "outputs": [],
   "source": [
    "y = x[:, [0,1,2,2]] # Same as above but do not assign to y"
   ]
  },
  {
   "cell_type": "markdown",
   "id": "9cb27089",
   "metadata": {},
   "source": [
    "- Because of advanced indexing y has its own memory for the most relevant parts of x were copied to y."
   ]
  },
  {
   "cell_type": "code",
   "execution_count": null,
   "id": "7b0b6036",
   "metadata": {},
   "outputs": [],
   "source": [
    "# To prove we assign a new element to x and see that y is not updated\n",
    "\n",
    "x[0,0] = 399 # Change the element in x\n",
    "x # Updated with the new value at position 0,0"
   ]
  },
  {
   "cell_type": "code",
   "execution_count": null,
   "id": "1763e643",
   "metadata": {},
   "outputs": [],
   "source": [
    "y # Not changed"
   ]
  },
  {
   "cell_type": "markdown",
   "id": "7bceccc3",
   "metadata": {},
   "source": [
    "##### b. Slicing\n",
    "- If we start over and construct y by slicing as shown below then the change we make does affect y, because a view is just a window in the same memory."
   ]
  },
  {
   "cell_type": "code",
   "execution_count": null,
   "id": "14072e54",
   "metadata": {},
   "outputs": [],
   "source": [
    "x = np.ones((3,3))\n",
    "y = x[:2, :2] # View of upper left piece\n",
    "x[0,0] = 399 # Change value\n",
    "x # See the change"
   ]
  },
  {
   "cell_type": "code",
   "execution_count": null,
   "id": "d43351a5",
   "metadata": {},
   "outputs": [],
   "source": [
    "y"
   ]
  },
  {
   "cell_type": "markdown",
   "id": "e59a5319",
   "metadata": {},
   "source": [
    "_Note:_ You can explicitly copy to force a copy without any indexing i.e. ```y = x.copy()```"
   ]
  },
  {
   "cell_type": "markdown",
   "id": "3897f30e",
   "metadata": {},
   "source": [
    "###### Overlapping Numpy Arrays\n",
    "- Manipulating memory using views is powerful especially for signal and image processing algorithms, that require overlapping fragments of memory. \n",
    "- Example: To show how to use advanced Numpy to create overlapping blocks that do not actually consume additional memory."
   ]
  },
  {
   "cell_type": "code",
   "execution_count": null,
   "id": "ea8b51c3",
   "metadata": {},
   "outputs": [],
   "source": [
    "from numpy.lib.stride_tricks import as_strided\n",
    "x = np.arange(6).astype(np.int32)\n",
    "y = as_strided(x, (7,4), (8,4)) # Overlpped entries\n",
    "y"
   ]
  },
  {
   "cell_type": "markdown",
   "id": "d534d224",
   "metadata": {},
   "source": [
    "- The code creates a range of integers and then overlaps the entries to create a _7x4_ Numpy array. The final argument as_strided function are the strides which are the steps in bytes to move in the row nd column dimensions, respectively.\n",
    "- Thus the resulting array steps 4 bytes in the column dimensions and 8 bytes in the row dimension. This is because the integer elements in the Numpy array are 4 bytes which  is equivalent to moving by one  element in the column dimension and by 2 elements in the row dimension.\n",
    "- The second row starts at 8 bytes (two elements) fom the firt entry and then proceed by 4 bytes (by 1 element) in the column dimension ie 2, 3, 4,5.\n",
    "- Most importantly memory is used in the resulting 7x4 Numpy array.\n",
    "- Example: The code below demonstrates this by reassigning elements in the original x array. Changes are shown up in y because they point at the same allocated memory."
   ]
  },
  {
   "cell_type": "code",
   "execution_count": null,
   "id": "e0362b94",
   "metadata": {},
   "outputs": [],
   "source": [
    "x[::2] = 89 # Assign every other value\n",
    "x"
   ]
  },
  {
   "cell_type": "code",
   "execution_count": null,
   "id": "b92810a0",
   "metadata": {},
   "outputs": [],
   "source": [
    "y # Change appears because y is a view"
   ]
  },
  {
   "cell_type": "markdown",
   "id": "d0433fe0",
   "metadata": {},
   "source": [
    "_Note_ ```as_strided``` does not check that you stay within  that memory block bounds. So, if the size of the target matrix is not filled by the available data elements, the remaining elements will come from whatever bytes are at that memory location. There is no filling with default zeros or other strategy that defends memory block bounds. One defense is to explicitly control the dimensions as demostrated below:"
   ]
  },
  {
   "cell_type": "code",
   "execution_count": null,
   "id": "d1ef9df5",
   "metadata": {},
   "outputs": [],
   "source": [
    "n = 8 # number of elements\n",
    "x = np.arange(n) # Create array\n",
    "k = 5 # Deired number of rows\n",
    "y = as_strided(x,(k,n-k+1), (x.itemsize,) * 2)\n",
    "y"
   ]
  },
  {
   "cell_type": "markdown",
   "id": "da14d361",
   "metadata": {},
   "source": [
    "#### Numpy Memory Data Structures"
   ]
  },
  {
   "cell_type": "code",
   "execution_count": 12,
   "id": "85675918",
   "metadata": {},
   "outputs": [
    {
     "data": {
      "text/plain": [
       "b'\\x01\\x00'"
      ]
     },
     "execution_count": 12,
     "metadata": {},
     "output_type": "execute_result"
    }
   ],
   "source": [
    "# 16 bit numpy array for exploration\n",
    "x = np.array([1], dtype=np.int16)\n",
    "\n",
    "# Checking the raw data using x.data attribute\n",
    "bytes(x.data)"
   ]
  },
  {
   "cell_type": "markdown",
   "id": "3bc9985d",
   "metadata": {},
   "source": [
    "- Observe the orientation of the bytes\n",
    "- Now change it to unsigned two-byte endian integer"
   ]
  },
  {
   "cell_type": "code",
   "execution_count": null,
   "id": "808050d3",
   "metadata": {},
   "outputs": [],
   "source": [
    "x = np.array([1], dtype='>u2')\n",
    "bytes(x.data)"
   ]
  },
  {
   "cell_type": "markdown",
   "id": "6146cbe7",
   "metadata": {},
   "source": [
    "- Again notice the orientation of the bytes. This is what little/big endian means for data memory.\n",
    "- Also we can create arrays directly from bytes directly using ```frombuffer```. Note the effects of using different ```dtypes```.\n",
    "- Examples:"
   ]
  },
  {
   "cell_type": "code",
   "execution_count": null,
   "id": "9dfee268",
   "metadata": {},
   "outputs": [],
   "source": [
    "np.frombuffer(b'\\x00\\x01', dtype=np.int16)"
   ]
  },
  {
   "cell_type": "code",
   "execution_count": null,
   "id": "9d57e620",
   "metadata": {},
   "outputs": [],
   "source": [
    "np.frombuffer(b'\\x00\\x01', dtype=np.int8)"
   ]
  },
  {
   "cell_type": "code",
   "execution_count": null,
   "id": "2e6d1e0b",
   "metadata": {},
   "outputs": [],
   "source": [
    "np.frombuffer(b'\\x00\\x01', dtype='<u2')"
   ]
  },
  {
   "cell_type": "markdown",
   "id": "bbd1d396",
   "metadata": {},
   "source": [
    "- You can re-cast a numpy array to a different dtype or change the dtype of the view after it has been created. Casting copies the data."
   ]
  },
  {
   "cell_type": "code",
   "execution_count": null,
   "id": "53e9b2cc",
   "metadata": {},
   "outputs": [],
   "source": [
    "x = np.frombuffer(b'\\x00\\x01', dtype = np.int8)\n",
    "x # array([0,1], dtype=int8)"
   ]
  },
  {
   "cell_type": "code",
   "execution_count": null,
   "id": "5f71b060",
   "metadata": {},
   "outputs": [],
   "source": [
    "y = x.astype(np.int16)\n",
    "y # array([0, 1], dtype=int16)"
   ]
  },
  {
   "cell_type": "code",
   "execution_count": null,
   "id": "b9131edd",
   "metadata": {},
   "outputs": [],
   "source": [
    "y.flags['OWNDATA'] # y is a copy; True"
   ]
  },
  {
   "cell_type": "markdown",
   "id": "e058bb6c",
   "metadata": {},
   "source": [
    "- We can interpret the data using a vie too"
   ]
  },
  {
   "cell_type": "code",
   "execution_count": null,
   "id": "6aaaa5d4",
   "metadata": {},
   "outputs": [],
   "source": [
    "y = x.view(np.int16)\n",
    "y # array([256], dtype=int16)"
   ]
  },
  {
   "cell_type": "code",
   "execution_count": null,
   "id": "5ddf6872",
   "metadata": {},
   "outputs": [],
   "source": [
    "y.flags['OWNDATA'] # y is a copy; False"
   ]
  },
  {
   "cell_type": "markdown",
   "id": "38314f18",
   "metadata": {},
   "source": [
    "**Note:** y is not new in memory it is just referencing the existing memory and reinterpreting it using a different type."
   ]
  },
  {
   "cell_type": "markdown",
   "id": "4ff25313",
   "metadata": {},
   "source": [
    "##### Numpy Memory Strides\n",
    "\n",
    "_Stride:_ is the number of bytes to reach the next consecutive array element. \n",
    "- There is one stride per a dimension.\n",
    "- Consider the following:"
   ]
  },
  {
   "cell_type": "code",
   "execution_count": null,
   "id": "04b7261e",
   "metadata": {},
   "outputs": [],
   "source": [
    "x = np.array([[1,2,3], [7,8,9]], dtype=np.int8)\n",
    "bytes(x.data) # b'\\x01\\x02\\x03\\x07\\x08\\t'"
   ]
  },
  {
   "cell_type": "code",
   "execution_count": null,
   "id": "a90b6cef",
   "metadata": {},
   "outputs": [],
   "source": [
    "x.strides # (3, 1)"
   ]
  },
  {
   "cell_type": "markdown",
   "id": "a28cc4a3",
   "metadata": {},
   "source": [
    "- Thus if we want to index x[1,2] we have to use the following offset:"
   ]
  },
  {
   "cell_type": "code",
   "execution_count": null,
   "id": "72c12cd8",
   "metadata": {},
   "outputs": [],
   "source": [
    "offset = 3*1 + 2*1\n",
    "x.flat[offset]"
   ]
  },
  {
   "cell_type": "markdown",
   "id": "9eea90d1",
   "metadata": {},
   "source": [
    "#### Array Element-wise Operations\n",
    "- The usual pairwise arithmetic operations are element-wise in Numpy. Example:"
   ]
  },
  {
   "cell_type": "code",
   "execution_count": null,
   "id": "7a66785c",
   "metadata": {},
   "outputs": [],
   "source": [
    "x * 3"
   ]
  },
  {
   "cell_type": "code",
   "execution_count": null,
   "id": "b34d2275",
   "metadata": {},
   "outputs": [],
   "source": [
    "x/x.max()"
   ]
  },
  {
   "cell_type": "markdown",
   "id": "995cbace",
   "metadata": {},
   "source": [
    "**Note**\n",
    "- It is easy to mess in operations such as x -= x.T for Numpy arrays. In general this should be avoided since they make it hard to find bugs."
   ]
  },
  {
   "cell_type": "markdown",
   "id": "45bc328e",
   "metadata": {},
   "source": [
    "#### Universal Functions.\n",
    "- ```ufunct``` are Numpy fuctions optimized used to compute Numpy arrays at the C-order level i.e. outside the Python interpreter.\n",
    "- Example: Let us compute the trigonometric sine:"
   ]
  },
  {
   "cell_type": "code",
   "execution_count": null,
   "id": "692326fc",
   "metadata": {},
   "outputs": [],
   "source": [
    "x = np.linspace(0,1,20)\n",
    "np.sin(x)"
   ]
  },
  {
   "cell_type": "markdown",
   "id": "4a2d5e44",
   "metadata": {},
   "source": [
    "- Numpy's sine function does not need extra semantics because the computing occurs in the Numpy's C-code. This is unlike Python's sine which deals with a single variable at a time and it puts the output in a list."
   ]
  },
  {
   "cell_type": "markdown",
   "id": "447a83c2",
   "metadata": {},
   "source": [
    "#### Numpy Data Input/Output\n",
    "- Numpy makes it easy to move data in and out of files:"
   ]
  },
  {
   "cell_type": "code",
   "execution_count": null,
   "id": "aacb078f",
   "metadata": {},
   "outputs": [],
   "source": [
    "x = np.loadtxt('text.txt', delimiter=',', skiprows=1)\n",
    "x"
   ]
  },
  {
   "cell_type": "code",
   "execution_count": null,
   "id": "2a492b50",
   "metadata": {},
   "outputs": [],
   "source": [
    "# each column with different dtype\n",
    "x = np.loadtxt('text.txt', delimiter=',', skiprows=1, dtype='f4, i4')\n",
    "x"
   ]
  },
  {
   "cell_type": "markdown",
   "id": "cd9aaa7e",
   "metadata": {},
   "source": [
    "- Numpy arrays can be saved with the corresponding ```np.savetxt``` function."
   ]
  },
  {
   "cell_type": "markdown",
   "id": "5e489525",
   "metadata": {},
   "source": [
    "#### Linear Algebra"
   ]
  },
  {
   "cell_type": "code",
   "execution_count": null,
   "id": "bb0bed23",
   "metadata": {},
   "outputs": [],
   "source": []
  }
 ],
 "metadata": {
  "kernelspec": {
   "display_name": "Python 3 (ipykernel)",
   "language": "python",
   "name": "python3"
  },
  "language_info": {
   "codemirror_mode": {
    "name": "ipython",
    "version": 3
   },
   "file_extension": ".py",
   "mimetype": "text/x-python",
   "name": "python",
   "nbconvert_exporter": "python",
   "pygments_lexer": "ipython3",
   "version": "3.11.5"
  }
 },
 "nbformat": 4,
 "nbformat_minor": 5
}
